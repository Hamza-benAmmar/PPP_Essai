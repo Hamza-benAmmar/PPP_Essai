{
 "cells": [
  {
   "cell_type": "markdown",
   "id": "e3e7494d",
   "metadata": {},
   "source": [
    "# imports"
   ]
  },
  {
   "cell_type": "code",
   "execution_count": 1,
   "id": "7e6e0a31",
   "metadata": {},
   "outputs": [],
   "source": [
    "import pandas as pd \n",
    "import re\n",
    "from nltk.corpus import stopwords\n",
    "from nltk.tokenize import word_tokenize\n",
    "from textblob import TextBlob\n",
    "from nltk.stem.porter import PorterStemmer\n"
   ]
  },
  {
   "cell_type": "markdown",
   "id": "df7011cd",
   "metadata": {},
   "source": [
    "# Loading and cleaning"
   ]
  },
  {
   "cell_type": "code",
   "execution_count": 2,
   "id": "51c4b9e5",
   "metadata": {},
   "outputs": [
    {
     "data": {
      "text/html": [
       "<div>\n",
       "<style scoped>\n",
       "    .dataframe tbody tr th:only-of-type {\n",
       "        vertical-align: middle;\n",
       "    }\n",
       "\n",
       "    .dataframe tbody tr th {\n",
       "        vertical-align: top;\n",
       "    }\n",
       "\n",
       "    .dataframe thead th {\n",
       "        text-align: right;\n",
       "    }\n",
       "</style>\n",
       "<table border=\"1\" class=\"dataframe\">\n",
       "  <thead>\n",
       "    <tr style=\"text-align: right;\">\n",
       "      <th></th>\n",
       "      <th>sentiment</th>\n",
       "      <th>content</th>\n",
       "    </tr>\n",
       "  </thead>\n",
       "  <tbody>\n",
       "    <tr>\n",
       "      <th>0</th>\n",
       "      <td>fear</td>\n",
       "      <td>Every time I imagine that someone I love or I ...</td>\n",
       "    </tr>\n",
       "    <tr>\n",
       "      <th>1</th>\n",
       "      <td>anger</td>\n",
       "      <td>When I had been obviously unjustly treated and...</td>\n",
       "    </tr>\n",
       "    <tr>\n",
       "      <th>2</th>\n",
       "      <td>sadness</td>\n",
       "      <td>When I think about the short time that we live...</td>\n",
       "    </tr>\n",
       "    <tr>\n",
       "      <th>3</th>\n",
       "      <td>disgust</td>\n",
       "      <td>At a gathering I found myself involuntarily si...</td>\n",
       "    </tr>\n",
       "    <tr>\n",
       "      <th>4</th>\n",
       "      <td>shame</td>\n",
       "      <td>When I realized that I was directing the feeli...</td>\n",
       "    </tr>\n",
       "  </tbody>\n",
       "</table>\n",
       "</div>"
      ],
      "text/plain": [
       "  sentiment                                            content\n",
       "0      fear  Every time I imagine that someone I love or I ...\n",
       "1     anger  When I had been obviously unjustly treated and...\n",
       "2   sadness  When I think about the short time that we live...\n",
       "3   disgust  At a gathering I found myself involuntarily si...\n",
       "4     shame  When I realized that I was directing the feeli..."
      ]
     },
     "execution_count": 2,
     "metadata": {},
     "output_type": "execute_result"
    }
   ],
   "source": [
    "df=pd.read_csv('ISEAR.csv')\n",
    "df.columns=['sentiment','content','unnamed']\n",
    "df=df.loc[:,['sentiment','content']]\n",
    "copy=df.copy()\n",
    "df.head()"
   ]
  },
  {
   "cell_type": "code",
   "execution_count": 3,
   "id": "56012346",
   "metadata": {},
   "outputs": [
    {
     "name": "stdout",
     "output_type": "stream",
     "text": [
      "<class 'pandas.core.frame.DataFrame'>\n",
      "RangeIndex: 7515 entries, 0 to 7514\n",
      "Data columns (total 2 columns):\n",
      " #   Column     Non-Null Count  Dtype \n",
      "---  ------     --------------  ----- \n",
      " 0   sentiment  7515 non-null   object\n",
      " 1   content    7515 non-null   object\n",
      "dtypes: object(2)\n",
      "memory usage: 117.6+ KB\n"
     ]
    }
   ],
   "source": [
    "df.info()"
   ]
  },
  {
   "cell_type": "code",
   "execution_count": 4,
   "id": "3c432eb5",
   "metadata": {},
   "outputs": [
    {
     "data": {
      "text/plain": [
       "joy        1091\n",
       "sadness    1082\n",
       "anger      1079\n",
       "fear       1076\n",
       "shame      1071\n",
       "disgust    1066\n",
       "guilt      1049\n",
       "guit          1\n",
       "Name: sentiment, dtype: int64"
      ]
     },
     "execution_count": 4,
     "metadata": {},
     "output_type": "execute_result"
    }
   ],
   "source": [
    "df['sentiment'].value_counts()"
   ]
  },
  {
   "cell_type": "code",
   "execution_count": 5,
   "id": "392ebb9f",
   "metadata": {},
   "outputs": [
    {
     "data": {
      "text/plain": [
       "joy        1091\n",
       "sadness    1082\n",
       "anger      1079\n",
       "fear       1076\n",
       "shame      1071\n",
       "disgust    1066\n",
       "guilt      1050\n",
       "Name: sentiment, dtype: int64"
      ]
     },
     "execution_count": 5,
     "metadata": {},
     "output_type": "execute_result"
    }
   ],
   "source": [
    "df['sentiment']=df['sentiment'].apply(lambda x:'guilt' if x=='guit' else x)\n",
    "data=df.iloc[:,0:2]\n",
    "data['sentiment'].value_counts()"
   ]
  },
  {
   "cell_type": "markdown",
   "id": "b20d6cf4",
   "metadata": {},
   "source": [
    "# Cleaning and preprocessing"
   ]
  },
  {
   "cell_type": "code",
   "execution_count": 6,
   "id": "d963d295",
   "metadata": {},
   "outputs": [
    {
     "data": {
      "text/html": [
       "<div>\n",
       "<style scoped>\n",
       "    .dataframe tbody tr th:only-of-type {\n",
       "        vertical-align: middle;\n",
       "    }\n",
       "\n",
       "    .dataframe tbody tr th {\n",
       "        vertical-align: top;\n",
       "    }\n",
       "\n",
       "    .dataframe thead th {\n",
       "        text-align: right;\n",
       "    }\n",
       "</style>\n",
       "<table border=\"1\" class=\"dataframe\">\n",
       "  <thead>\n",
       "    <tr style=\"text-align: right;\">\n",
       "      <th></th>\n",
       "      <th>sentiment</th>\n",
       "      <th>content</th>\n",
       "    </tr>\n",
       "  </thead>\n",
       "  <tbody>\n",
       "    <tr>\n",
       "      <th>7510</th>\n",
       "      <td>shame</td>\n",
       "      <td>two years back someone invited me to be the tu...</td>\n",
       "    </tr>\n",
       "    <tr>\n",
       "      <th>7511</th>\n",
       "      <td>shame</td>\n",
       "      <td>i had taken the responsibility to do something...</td>\n",
       "    </tr>\n",
       "    <tr>\n",
       "      <th>7512</th>\n",
       "      <td>fear</td>\n",
       "      <td>i was at home and i heard a loud sound of spit...</td>\n",
       "    </tr>\n",
       "    <tr>\n",
       "      <th>7513</th>\n",
       "      <td>guilt</td>\n",
       "      <td>i did not do the homework that the teacher had...</td>\n",
       "    </tr>\n",
       "    <tr>\n",
       "      <th>7514</th>\n",
       "      <td>fear</td>\n",
       "      <td>i had shouted at my younger brother and he was...</td>\n",
       "    </tr>\n",
       "  </tbody>\n",
       "</table>\n",
       "</div>"
      ],
      "text/plain": [
       "     sentiment                                            content\n",
       "7510     shame  two years back someone invited me to be the tu...\n",
       "7511     shame  i had taken the responsibility to do something...\n",
       "7512      fear  i was at home and i heard a loud sound of spit...\n",
       "7513     guilt  i did not do the homework that the teacher had...\n",
       "7514      fear  i had shouted at my younger brother and he was..."
      ]
     },
     "execution_count": 6,
     "metadata": {},
     "output_type": "execute_result"
    }
   ],
   "source": [
    "data[\"content\"]=data[\"content\"].apply(lambda content:\" \".join(word.lower() for word in content.split()) )\n",
    "data.tail()"
   ]
  },
  {
   "cell_type": "code",
   "execution_count": 7,
   "id": "22a94576",
   "metadata": {},
   "outputs": [
    {
     "data": {
      "text/html": [
       "<div>\n",
       "<style scoped>\n",
       "    .dataframe tbody tr th:only-of-type {\n",
       "        vertical-align: middle;\n",
       "    }\n",
       "\n",
       "    .dataframe tbody tr th {\n",
       "        vertical-align: top;\n",
       "    }\n",
       "\n",
       "    .dataframe thead th {\n",
       "        text-align: right;\n",
       "    }\n",
       "</style>\n",
       "<table border=\"1\" class=\"dataframe\">\n",
       "  <thead>\n",
       "    <tr style=\"text-align: right;\">\n",
       "      <th></th>\n",
       "      <th>sentiment</th>\n",
       "      <th>content</th>\n",
       "    </tr>\n",
       "  </thead>\n",
       "  <tbody>\n",
       "    <tr>\n",
       "      <th>7510</th>\n",
       "      <td>shame</td>\n",
       "      <td>two years back someone invited me to be the tu...</td>\n",
       "    </tr>\n",
       "    <tr>\n",
       "      <th>7511</th>\n",
       "      <td>shame</td>\n",
       "      <td>i had taken the responsibility to do something...</td>\n",
       "    </tr>\n",
       "    <tr>\n",
       "      <th>7512</th>\n",
       "      <td>fear</td>\n",
       "      <td>i was at home and i heard a loud sound of spit...</td>\n",
       "    </tr>\n",
       "    <tr>\n",
       "      <th>7513</th>\n",
       "      <td>guilt</td>\n",
       "      <td>i did not do the homework that the teacher had...</td>\n",
       "    </tr>\n",
       "    <tr>\n",
       "      <th>7514</th>\n",
       "      <td>fear</td>\n",
       "      <td>i had shouted at my younger brother and he was...</td>\n",
       "    </tr>\n",
       "  </tbody>\n",
       "</table>\n",
       "</div>"
      ],
      "text/plain": [
       "     sentiment                                            content\n",
       "7510     shame  two years back someone invited me to be the tu...\n",
       "7511     shame  i had taken the responsibility to do something...\n",
       "7512      fear  i was at home and i heard a loud sound of spit...\n",
       "7513     guilt  i did not do the homework that the teacher had...\n",
       "7514      fear  i had shouted at my younger brother and he was..."
      ]
     },
     "execution_count": 7,
     "metadata": {},
     "output_type": "execute_result"
    }
   ],
   "source": [
    "data[\"content\"]=data[\"content\"].apply(lambda content: re.sub(r\"[^\\w\\s]\",\"\",content))\n",
    "data.tail()"
   ]
  },
  {
   "cell_type": "markdown",
   "id": "55a55fb7",
   "metadata": {},
   "source": [
    "def remove_stop_words(content):\n",
    "    without_stopwords=[]\n",
    "    tokenized=word_tokenize(content)\n",
    "    for word in tokenized:\n",
    "        if word not in stop:\n",
    "            without_stopwords.append(str(TextBlob(word).correct()))\n",
    "    return \" \".join(without_stopwords)"
   ]
  },
  {
   "cell_type": "code",
   "execution_count": 8,
   "id": "c65716df",
   "metadata": {},
   "outputs": [
    {
     "data": {
      "text/html": [
       "<div>\n",
       "<style scoped>\n",
       "    .dataframe tbody tr th:only-of-type {\n",
       "        vertical-align: middle;\n",
       "    }\n",
       "\n",
       "    .dataframe tbody tr th {\n",
       "        vertical-align: top;\n",
       "    }\n",
       "\n",
       "    .dataframe thead th {\n",
       "        text-align: right;\n",
       "    }\n",
       "</style>\n",
       "<table border=\"1\" class=\"dataframe\">\n",
       "  <thead>\n",
       "    <tr style=\"text-align: right;\">\n",
       "      <th></th>\n",
       "      <th>sentiment</th>\n",
       "      <th>content</th>\n",
       "    </tr>\n",
       "  </thead>\n",
       "  <tbody>\n",
       "    <tr>\n",
       "      <th>7510</th>\n",
       "      <td>shame</td>\n",
       "      <td>two years back someone invited tutor granddaug...</td>\n",
       "    </tr>\n",
       "    <tr>\n",
       "      <th>7511</th>\n",
       "      <td>shame</td>\n",
       "      <td>taken responsibility something prepared howeve...</td>\n",
       "    </tr>\n",
       "    <tr>\n",
       "      <th>7512</th>\n",
       "      <td>fear</td>\n",
       "      <td>home heard loud sound spitting outside door th...</td>\n",
       "    </tr>\n",
       "    <tr>\n",
       "      <th>7513</th>\n",
       "      <td>guilt</td>\n",
       "      <td>homework teacher asked us scolded immediately</td>\n",
       "    </tr>\n",
       "    <tr>\n",
       "      <th>7514</th>\n",
       "      <td>fear</td>\n",
       "      <td>shouted younger brother always afraid called l...</td>\n",
       "    </tr>\n",
       "  </tbody>\n",
       "</table>\n",
       "</div>"
      ],
      "text/plain": [
       "     sentiment                                            content\n",
       "7510     shame  two years back someone invited tutor granddaug...\n",
       "7511     shame  taken responsibility something prepared howeve...\n",
       "7512      fear  home heard loud sound spitting outside door th...\n",
       "7513     guilt      homework teacher asked us scolded immediately\n",
       "7514      fear  shouted younger brother always afraid called l..."
      ]
     },
     "execution_count": 8,
     "metadata": {},
     "output_type": "execute_result"
    }
   ],
   "source": [
    "stop=stopwords.words(\"english\")\n",
    "data[\"content\"]=data[\"content\"].apply(lambda content: \" \".join(word for word in word_tokenize(content) if word not in stop))\n",
    "data.tail()"
   ]
  },
  {
   "cell_type": "code",
   "execution_count": 9,
   "id": "e4f58920",
   "metadata": {},
   "outputs": [
    {
     "data": {
      "text/html": [
       "<div>\n",
       "<style scoped>\n",
       "    .dataframe tbody tr th:only-of-type {\n",
       "        vertical-align: middle;\n",
       "    }\n",
       "\n",
       "    .dataframe tbody tr th {\n",
       "        vertical-align: top;\n",
       "    }\n",
       "\n",
       "    .dataframe thead th {\n",
       "        text-align: right;\n",
       "    }\n",
       "</style>\n",
       "<table border=\"1\" class=\"dataframe\">\n",
       "  <thead>\n",
       "    <tr style=\"text-align: right;\">\n",
       "      <th></th>\n",
       "      <th>sentiment</th>\n",
       "      <th>content</th>\n",
       "    </tr>\n",
       "  </thead>\n",
       "  <tbody>\n",
       "    <tr>\n",
       "      <th>7510</th>\n",
       "      <td>shame</td>\n",
       "      <td>two year back someon invit tutor granddaught g...</td>\n",
       "    </tr>\n",
       "    <tr>\n",
       "      <th>7511</th>\n",
       "      <td>shame</td>\n",
       "      <td>taken respons someth prepar howev fail timid t...</td>\n",
       "    </tr>\n",
       "    <tr>\n",
       "      <th>7512</th>\n",
       "      <td>fear</td>\n",
       "      <td>home heard loud sound spit outsid door thought...</td>\n",
       "    </tr>\n",
       "    <tr>\n",
       "      <th>7513</th>\n",
       "      <td>guilt</td>\n",
       "      <td>homework teacher ask us scold immedi</td>\n",
       "    </tr>\n",
       "    <tr>\n",
       "      <th>7514</th>\n",
       "      <td>fear</td>\n",
       "      <td>shout younger brother alway afraid call loudli</td>\n",
       "    </tr>\n",
       "  </tbody>\n",
       "</table>\n",
       "</div>"
      ],
      "text/plain": [
       "     sentiment                                            content\n",
       "7510     shame  two year back someon invit tutor granddaught g...\n",
       "7511     shame  taken respons someth prepar howev fail timid t...\n",
       "7512      fear  home heard loud sound spit outsid door thought...\n",
       "7513     guilt               homework teacher ask us scold immedi\n",
       "7514      fear     shout younger brother alway afraid call loudli"
      ]
     },
     "execution_count": 9,
     "metadata": {},
     "output_type": "execute_result"
    }
   ],
   "source": [
    "ps=PorterStemmer()\n",
    "data[\"content\"]=data[\"content\"].apply(lambda content: ' '.join([ps.stem(word) for word in word_tokenize(content)]))\n",
    "#data[\"content\"]=data[\"content\"].apply(lambda content: str(TextBlob(content).correct()))\n",
    "data.tail()"
   ]
  },
  {
   "cell_type": "markdown",
   "id": "aedd282e",
   "metadata": {},
   "source": [
    "# Label Encoding"
   ]
  },
  {
   "cell_type": "code",
   "execution_count": 10,
   "id": "5fbe0fdc",
   "metadata": {},
   "outputs": [
    {
     "data": {
      "text/plain": [
       "joy        1091\n",
       "sadness    1082\n",
       "anger      1079\n",
       "fear       1076\n",
       "shame      1071\n",
       "disgust    1066\n",
       "guilt      1050\n",
       "Name: sentiment, dtype: int64"
      ]
     },
     "execution_count": 10,
     "metadata": {},
     "output_type": "execute_result"
    }
   ],
   "source": [
    "data['sentiment'].value_counts()"
   ]
  },
  {
   "cell_type": "code",
   "execution_count": 11,
   "id": "9d9d015d",
   "metadata": {},
   "outputs": [
    {
     "data": {
      "text/plain": [
       "4    1091\n",
       "5    1082\n",
       "0    1079\n",
       "2    1076\n",
       "6    1071\n",
       "1    1066\n",
       "3    1050\n",
       "Name: sentiment_label, dtype: int64"
      ]
     },
     "execution_count": 11,
     "metadata": {},
     "output_type": "execute_result"
    }
   ],
   "source": [
    "from sklearn.preprocessing import LabelEncoder\n",
    "le=LabelEncoder()\n",
    "data['sentiment_label']=le.fit_transform(data['sentiment'])\n",
    "data['sentiment_label'].value_counts()"
   ]
  },
  {
   "cell_type": "markdown",
   "id": "827ab10e",
   "metadata": {},
   "source": [
    "# Train split test"
   ]
  },
  {
   "cell_type": "code",
   "execution_count": 12,
   "id": "e97999ff",
   "metadata": {},
   "outputs": [],
   "source": [
    "from sklearn.model_selection import train_test_split\n",
    "X=data['content']\n",
    "y=data['sentiment_label']\n",
    "X_train,X_test,y_train,y_test=train_test_split(X,y,test_size=0.25,stratify=y)"
   ]
  },
  {
   "cell_type": "markdown",
   "id": "739b2003",
   "metadata": {},
   "source": [
    "# Feature engineering"
   ]
  },
  {
   "cell_type": "markdown",
   "id": "f737a173",
   "metadata": {},
   "source": [
    "## 1)Count Vectorizer"
   ]
  },
  {
   "cell_type": "code",
   "execution_count": 13,
   "id": "23e305b0",
   "metadata": {},
   "outputs": [],
   "source": [
    "from sklearn.feature_extraction.text import CountVectorizer\n",
    "cv = CountVectorizer()\n",
    "bow1=cv.fit_transform(X_train)\n",
    "bow1_test=cv.transform(X_test)"
   ]
  },
  {
   "cell_type": "markdown",
   "id": "e75b075d",
   "metadata": {},
   "source": [
    "## 2)TF-IDF"
   ]
  },
  {
   "cell_type": "code",
   "execution_count": 14,
   "id": "830a5018",
   "metadata": {},
   "outputs": [],
   "source": [
    "from sklearn.feature_extraction.text import TfidfVectorizer\n",
    "tfidf = TfidfVectorizer()\n",
    "bow2=tfidf.fit_transform(X_train)\n",
    "bow2_test=tfidf.transform(X_test)"
   ]
  },
  {
   "cell_type": "markdown",
   "id": "5cd5d769",
   "metadata": {},
   "source": [
    "# Model building"
   ]
  },
  {
   "cell_type": "code",
   "execution_count": 24,
   "id": "73fcd3be",
   "metadata": {},
   "outputs": [
    {
     "name": "stdout",
     "output_type": "stream",
     "text": [
      "cross validation accuracy from  MultinomialNB()  :  55.103127079174975\n",
      "-----------------------------------------------------------\n",
      "cross validation accuracy from  LogisticRegression(max_iter=1000)  :  57.05921490352629\n",
      "-----------------------------------------------------------\n",
      "cross validation accuracy from  SVC()  :  55.99467731204258\n",
      "-----------------------------------------------------------\n"
     ]
    }
   ],
   "source": [
    "from sklearn.feature_extraction.text import TfidfVectorizer\n",
    "tfidf = TfidfVectorizer()\n",
    "bow=tfidf.fit_transform(X)\n",
    "from sklearn.model_selection import cross_val_score\n",
    "models=[MultinomialNB(),LogisticRegression(max_iter=1000),SVC()]\n",
    "def compare():\n",
    "    for model in models:\n",
    "        cv_score=cross_val_score(model,bow,y,cv=5)\n",
    "        mean_accuracy=(sum(cv_score)/len(cv_score))*100\n",
    "        print(\"cross validation accuracy from \", model,\" : \",mean_accuracy)\n",
    "        print('-----------------------------------------------------------')\n",
    "compare()\n",
    "        "
   ]
  },
  {
   "cell_type": "markdown",
   "id": "0a89180b",
   "metadata": {},
   "source": [
    "## 1)Naive bayes"
   ]
  },
  {
   "cell_type": "code",
   "execution_count": 16,
   "id": "5efcd801",
   "metadata": {},
   "outputs": [],
   "source": [
    "from sklearn.metrics import accuracy_score\n",
    "def build_model(model,bow_train,y_train,bow_test):\n",
    "    model.fit(bow_train,y_train)\n",
    "    pred=model.predict(bow_test)\n",
    "    return accuracy_score(y_test,pred)\n",
    "    "
   ]
  },
  {
   "cell_type": "code",
   "execution_count": 17,
   "id": "2bcd0958",
   "metadata": {},
   "outputs": [
    {
     "name": "stdout",
     "output_type": "stream",
     "text": [
      "accuracy using count vectorizer:  0.5705162320383182\n",
      "accuracy using count tfidf:  0.5651942522618414\n"
     ]
    }
   ],
   "source": [
    "from sklearn.naive_bayes import MultinomialNB\n",
    "print(\"accuracy using count vectorizer: \", build_model(MultinomialNB(),bow1,y_train,bow1_test))\n",
    "print(\"accuracy using count tfidf: \", build_model(MultinomialNB(),bow2,y_train,bow2_test))\n"
   ]
  },
  {
   "cell_type": "code",
   "execution_count": 18,
   "id": "4e28fb22",
   "metadata": {},
   "outputs": [],
   "source": [
    "# tweet=[\"i am having fun \"]\n",
    "# nb=MultinomialNB()\n",
    "# nb.fit(bow1,y_train)\n",
    "# test=cv.transform(tweet)\n",
    "# prediction=nb.predict(test)[0]\n",
    "# if (prediction==0):\n",
    "#     print('fear')\n",
    "# if (prediction==1):\n",
    "#     print('anger')\n",
    "# if (prediction==2):\n",
    "#     print('joy')\n",
    "# if (prediction==3):\n",
    "#     print('sadness')"
   ]
  },
  {
   "cell_type": "markdown",
   "id": "ea71b874",
   "metadata": {},
   "source": [
    "## 2) Logistic regression"
   ]
  },
  {
   "cell_type": "code",
   "execution_count": 19,
   "id": "a6a19681",
   "metadata": {},
   "outputs": [
    {
     "name": "stderr",
     "output_type": "stream",
     "text": [
      "C:\\Users\\ASUS X509 I7\\AppData\\Local\\Programs\\Python\\Python311\\Lib\\site-packages\\sklearn\\linear_model\\_logistic.py:458: ConvergenceWarning: lbfgs failed to converge (status=1):\n",
      "STOP: TOTAL NO. of ITERATIONS REACHED LIMIT.\n",
      "\n",
      "Increase the number of iterations (max_iter) or scale the data as shown in:\n",
      "    https://scikit-learn.org/stable/modules/preprocessing.html\n",
      "Please also refer to the documentation for alternative solver options:\n",
      "    https://scikit-learn.org/stable/modules/linear_model.html#logistic-regression\n",
      "  n_iter_i = _check_optimize_result(\n"
     ]
    },
    {
     "name": "stdout",
     "output_type": "stream",
     "text": [
      "accuracy using count vectorizer:  0.5593400745077168\n",
      "accuracy using count tfidf:  0.591271953166578\n"
     ]
    }
   ],
   "source": [
    "from sklearn.linear_model import LogisticRegression\n",
    "print(\"accuracy using count vectorizer: \", build_model(LogisticRegression(),bow1,y_train,bow1_test))\n",
    "print(\"accuracy using count tfidf: \", build_model(LogisticRegression(),bow2,y_train,bow2_test))"
   ]
  },
  {
   "cell_type": "code",
   "execution_count": 20,
   "id": "ddbeffb3",
   "metadata": {},
   "outputs": [
    {
     "name": "stdout",
     "output_type": "stream",
     "text": [
      "accuracy using count vectorizer:  0.552421500798297\n",
      "accuracy using count tfidf:  0.5816923895689197\n"
     ]
    }
   ],
   "source": [
    "from sklearn.svm import SVC\n",
    "print(\"accuracy using count vectorizer: \", build_model(SVC(),bow1,y_train,bow1_test))\n",
    "print(\"accuracy using count tfidf: \", build_model(SVC(),bow2,y_train,bow2_test))"
   ]
  },
  {
   "cell_type": "code",
   "execution_count": null,
   "id": "4b72bd7d",
   "metadata": {},
   "outputs": [],
   "source": []
  }
 ],
 "metadata": {
  "kernelspec": {
   "display_name": "Python 3 (ipykernel)",
   "language": "python",
   "name": "python3"
  },
  "language_info": {
   "codemirror_mode": {
    "name": "ipython",
    "version": 3
   },
   "file_extension": ".py",
   "mimetype": "text/x-python",
   "name": "python",
   "nbconvert_exporter": "python",
   "pygments_lexer": "ipython3",
   "version": "3.11.2"
  }
 },
 "nbformat": 4,
 "nbformat_minor": 5
}
