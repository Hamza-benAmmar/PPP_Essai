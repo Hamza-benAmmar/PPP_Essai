{
 "cells": [
  {
   "cell_type": "markdown",
   "id": "849a2328",
   "metadata": {},
   "source": [
    "# imports"
   ]
  },
  {
   "cell_type": "code",
   "execution_count": 1,
   "id": "79be55ce",
   "metadata": {},
   "outputs": [],
   "source": [
    "import pandas as pd \n",
    "import re\n",
    "from nltk.corpus import stopwords\n",
    "from nltk.tokenize import word_tokenize\n",
    "from textblob import TextBlob\n",
    "from nltk.stem.porter import PorterStemmer\n"
   ]
  },
  {
   "cell_type": "markdown",
   "id": "b0e2f240",
   "metadata": {},
   "source": [
    "# Loading and cleaning"
   ]
  },
  {
   "cell_type": "code",
   "execution_count": 2,
   "id": "ad66fc07",
   "metadata": {},
   "outputs": [
    {
     "data": {
      "text/html": [
       "<div>\n",
       "<style scoped>\n",
       "    .dataframe tbody tr th:only-of-type {\n",
       "        vertical-align: middle;\n",
       "    }\n",
       "\n",
       "    .dataframe tbody tr th {\n",
       "        vertical-align: top;\n",
       "    }\n",
       "\n",
       "    .dataframe thead th {\n",
       "        text-align: right;\n",
       "    }\n",
       "</style>\n",
       "<table border=\"1\" class=\"dataframe\">\n",
       "  <thead>\n",
       "    <tr style=\"text-align: right;\">\n",
       "      <th></th>\n",
       "      <th>ID</th>\n",
       "      <th>sentiment</th>\n",
       "      <th>content</th>\n",
       "    </tr>\n",
       "  </thead>\n",
       "  <tbody>\n",
       "    <tr>\n",
       "      <th>7097</th>\n",
       "      <td>40781</td>\n",
       "      <td>sadness</td>\n",
       "      <td>@VivienLloyd Thank you so much! Just home - st...</td>\n",
       "    </tr>\n",
       "    <tr>\n",
       "      <th>7098</th>\n",
       "      <td>40782</td>\n",
       "      <td>sadness</td>\n",
       "      <td>Just put the winter duvet on ☃️❄️🌬☔️</td>\n",
       "    </tr>\n",
       "    <tr>\n",
       "      <th>7099</th>\n",
       "      <td>40783</td>\n",
       "      <td>sadness</td>\n",
       "      <td>@SilkInSide @TommyJoeRatliff that's so pretty!...</td>\n",
       "    </tr>\n",
       "    <tr>\n",
       "      <th>7100</th>\n",
       "      <td>40784</td>\n",
       "      <td>sadness</td>\n",
       "      <td>@BluesfestByron second artist announcement loo...</td>\n",
       "    </tr>\n",
       "    <tr>\n",
       "      <th>7101</th>\n",
       "      <td>40785</td>\n",
       "      <td>sadness</td>\n",
       "      <td>I can literally eat creamy pesto pasta topped ...</td>\n",
       "    </tr>\n",
       "  </tbody>\n",
       "</table>\n",
       "</div>"
      ],
      "text/plain": [
       "         ID sentiment                                            content\n",
       "7097  40781   sadness  @VivienLloyd Thank you so much! Just home - st...\n",
       "7098  40782   sadness              Just put the winter duvet on ☃️❄️🌬☔️ \n",
       "7099  40783   sadness  @SilkInSide @TommyJoeRatliff that's so pretty!...\n",
       "7100  40784   sadness  @BluesfestByron second artist announcement loo...\n",
       "7101  40785   sadness  I can literally eat creamy pesto pasta topped ..."
      ]
     },
     "execution_count": 2,
     "metadata": {},
     "output_type": "execute_result"
    }
   ],
   "source": [
    "df=pd.read_csv('eng_dataset.csv')\n",
    "copy=df.copy()\n",
    "df.tail()"
   ]
  },
  {
   "cell_type": "code",
   "execution_count": 3,
   "id": "47ea3ea1",
   "metadata": {},
   "outputs": [
    {
     "name": "stdout",
     "output_type": "stream",
     "text": [
      "<class 'pandas.core.frame.DataFrame'>\n",
      "RangeIndex: 7102 entries, 0 to 7101\n",
      "Data columns (total 3 columns):\n",
      " #   Column     Non-Null Count  Dtype \n",
      "---  ------     --------------  ----- \n",
      " 0   ID         7102 non-null   int64 \n",
      " 1   sentiment  7102 non-null   object\n",
      " 2   content    7102 non-null   object\n",
      "dtypes: int64(1), object(2)\n",
      "memory usage: 166.6+ KB\n"
     ]
    }
   ],
   "source": [
    "df.info()"
   ]
  },
  {
   "cell_type": "code",
   "execution_count": 4,
   "id": "9269ba1d",
   "metadata": {},
   "outputs": [
    {
     "data": {
      "text/plain": [
       "fear       2252\n",
       "anger      1701\n",
       "joy        1616\n",
       "sadness    1533\n",
       "Name: sentiment, dtype: int64"
      ]
     },
     "execution_count": 4,
     "metadata": {},
     "output_type": "execute_result"
    }
   ],
   "source": [
    "df['sentiment'].value_counts()"
   ]
  },
  {
   "cell_type": "code",
   "execution_count": 5,
   "id": "c614097b",
   "metadata": {},
   "outputs": [
    {
     "name": "stdout",
     "output_type": "stream",
     "text": [
      "<class 'pandas.core.frame.DataFrame'>\n",
      "RangeIndex: 7102 entries, 0 to 7101\n",
      "Data columns (total 2 columns):\n",
      " #   Column     Non-Null Count  Dtype \n",
      "---  ------     --------------  ----- \n",
      " 0   sentiment  7102 non-null   object\n",
      " 1   content    7102 non-null   object\n",
      "dtypes: object(2)\n",
      "memory usage: 111.1+ KB\n"
     ]
    }
   ],
   "source": [
    "data=df.iloc[:,1:3]\n",
    "data.info()"
   ]
  },
  {
   "cell_type": "markdown",
   "id": "debd2f15",
   "metadata": {},
   "source": [
    "# Cleaning and preprocessing"
   ]
  },
  {
   "cell_type": "code",
   "execution_count": 6,
   "id": "af1af99d",
   "metadata": {},
   "outputs": [
    {
     "data": {
      "text/html": [
       "<div>\n",
       "<style scoped>\n",
       "    .dataframe tbody tr th:only-of-type {\n",
       "        vertical-align: middle;\n",
       "    }\n",
       "\n",
       "    .dataframe tbody tr th {\n",
       "        vertical-align: top;\n",
       "    }\n",
       "\n",
       "    .dataframe thead th {\n",
       "        text-align: right;\n",
       "    }\n",
       "</style>\n",
       "<table border=\"1\" class=\"dataframe\">\n",
       "  <thead>\n",
       "    <tr style=\"text-align: right;\">\n",
       "      <th></th>\n",
       "      <th>sentiment</th>\n",
       "      <th>content</th>\n",
       "    </tr>\n",
       "  </thead>\n",
       "  <tbody>\n",
       "    <tr>\n",
       "      <th>7097</th>\n",
       "      <td>sadness</td>\n",
       "      <td>@vivienlloyd thank you so much! just home - st...</td>\n",
       "    </tr>\n",
       "    <tr>\n",
       "      <th>7098</th>\n",
       "      <td>sadness</td>\n",
       "      <td>just put the winter duvet on ☃️❄️🌬☔️</td>\n",
       "    </tr>\n",
       "    <tr>\n",
       "      <th>7099</th>\n",
       "      <td>sadness</td>\n",
       "      <td>@silkinside @tommyjoeratliff that's so pretty!...</td>\n",
       "    </tr>\n",
       "    <tr>\n",
       "      <th>7100</th>\n",
       "      <td>sadness</td>\n",
       "      <td>@bluesfestbyron second artist announcement loo...</td>\n",
       "    </tr>\n",
       "    <tr>\n",
       "      <th>7101</th>\n",
       "      <td>sadness</td>\n",
       "      <td>i can literally eat creamy pesto pasta topped ...</td>\n",
       "    </tr>\n",
       "  </tbody>\n",
       "</table>\n",
       "</div>"
      ],
      "text/plain": [
       "     sentiment                                            content\n",
       "7097   sadness  @vivienlloyd thank you so much! just home - st...\n",
       "7098   sadness               just put the winter duvet on ☃️❄️🌬☔️\n",
       "7099   sadness  @silkinside @tommyjoeratliff that's so pretty!...\n",
       "7100   sadness  @bluesfestbyron second artist announcement loo...\n",
       "7101   sadness  i can literally eat creamy pesto pasta topped ..."
      ]
     },
     "execution_count": 6,
     "metadata": {},
     "output_type": "execute_result"
    }
   ],
   "source": [
    "data[\"content\"]=data[\"content\"].apply(lambda content:\" \".join(word.lower() for word in content.split()) )\n",
    "data.tail()"
   ]
  },
  {
   "cell_type": "code",
   "execution_count": 7,
   "id": "c6251d56",
   "metadata": {},
   "outputs": [
    {
     "data": {
      "text/html": [
       "<div>\n",
       "<style scoped>\n",
       "    .dataframe tbody tr th:only-of-type {\n",
       "        vertical-align: middle;\n",
       "    }\n",
       "\n",
       "    .dataframe tbody tr th {\n",
       "        vertical-align: top;\n",
       "    }\n",
       "\n",
       "    .dataframe thead th {\n",
       "        text-align: right;\n",
       "    }\n",
       "</style>\n",
       "<table border=\"1\" class=\"dataframe\">\n",
       "  <thead>\n",
       "    <tr style=\"text-align: right;\">\n",
       "      <th></th>\n",
       "      <th>sentiment</th>\n",
       "      <th>content</th>\n",
       "    </tr>\n",
       "  </thead>\n",
       "  <tbody>\n",
       "    <tr>\n",
       "      <th>7097</th>\n",
       "      <td>sadness</td>\n",
       "      <td>vivienlloyd thank you so much just home  stunn...</td>\n",
       "    </tr>\n",
       "    <tr>\n",
       "      <th>7098</th>\n",
       "      <td>sadness</td>\n",
       "      <td>just put the winter duvet on</td>\n",
       "    </tr>\n",
       "    <tr>\n",
       "      <th>7099</th>\n",
       "      <td>sadness</td>\n",
       "      <td>silkinside tommyjoeratliff thats so pretty i l...</td>\n",
       "    </tr>\n",
       "    <tr>\n",
       "      <th>7100</th>\n",
       "      <td>sadness</td>\n",
       "      <td>bluesfestbyron second artist announcement look...</td>\n",
       "    </tr>\n",
       "    <tr>\n",
       "      <th>7101</th>\n",
       "      <td>sadness</td>\n",
       "      <td>i can literally eat creamy pesto pasta topped ...</td>\n",
       "    </tr>\n",
       "  </tbody>\n",
       "</table>\n",
       "</div>"
      ],
      "text/plain": [
       "     sentiment                                            content\n",
       "7097   sadness  vivienlloyd thank you so much just home  stunn...\n",
       "7098   sadness                      just put the winter duvet on \n",
       "7099   sadness  silkinside tommyjoeratliff thats so pretty i l...\n",
       "7100   sadness  bluesfestbyron second artist announcement look...\n",
       "7101   sadness  i can literally eat creamy pesto pasta topped ..."
      ]
     },
     "execution_count": 7,
     "metadata": {},
     "output_type": "execute_result"
    }
   ],
   "source": [
    "data[\"content\"]=data[\"content\"].apply(lambda content: re.sub(r\"[^\\w\\s]\",\"\",content))\n",
    "data.tail()"
   ]
  },
  {
   "cell_type": "markdown",
   "id": "6b8fe266",
   "metadata": {},
   "source": [
    "def remove_stop_words(content):\n",
    "    without_stopwords=[]\n",
    "    tokenized=word_tokenize(content)\n",
    "    for word in tokenized:\n",
    "        if word not in stop:\n",
    "            without_stopwords.append(str(TextBlob(word).correct()))\n",
    "    return \" \".join(without_stopwords)"
   ]
  },
  {
   "cell_type": "code",
   "execution_count": 8,
   "id": "a79402f7",
   "metadata": {},
   "outputs": [
    {
     "data": {
      "text/html": [
       "<div>\n",
       "<style scoped>\n",
       "    .dataframe tbody tr th:only-of-type {\n",
       "        vertical-align: middle;\n",
       "    }\n",
       "\n",
       "    .dataframe tbody tr th {\n",
       "        vertical-align: top;\n",
       "    }\n",
       "\n",
       "    .dataframe thead th {\n",
       "        text-align: right;\n",
       "    }\n",
       "</style>\n",
       "<table border=\"1\" class=\"dataframe\">\n",
       "  <thead>\n",
       "    <tr style=\"text-align: right;\">\n",
       "      <th></th>\n",
       "      <th>sentiment</th>\n",
       "      <th>content</th>\n",
       "    </tr>\n",
       "  </thead>\n",
       "  <tbody>\n",
       "    <tr>\n",
       "      <th>7097</th>\n",
       "      <td>sadness</td>\n",
       "      <td>vivienlloyd thank much home stunned happy dont...</td>\n",
       "    </tr>\n",
       "    <tr>\n",
       "      <th>7098</th>\n",
       "      <td>sadness</td>\n",
       "      <td>put winter duvet</td>\n",
       "    </tr>\n",
       "    <tr>\n",
       "      <th>7099</th>\n",
       "      <td>sadness</td>\n",
       "      <td>silkinside tommyjoeratliff thats pretty love s...</td>\n",
       "    </tr>\n",
       "    <tr>\n",
       "      <th>7100</th>\n",
       "      <td>sadness</td>\n",
       "      <td>bluesfestbyron second artist announcement look...</td>\n",
       "    </tr>\n",
       "    <tr>\n",
       "      <th>7101</th>\n",
       "      <td>sadness</td>\n",
       "      <td>literally eat creamy pesto pasta topped grille...</td>\n",
       "    </tr>\n",
       "  </tbody>\n",
       "</table>\n",
       "</div>"
      ],
      "text/plain": [
       "     sentiment                                            content\n",
       "7097   sadness  vivienlloyd thank much home stunned happy dont...\n",
       "7098   sadness                                   put winter duvet\n",
       "7099   sadness  silkinside tommyjoeratliff thats pretty love s...\n",
       "7100   sadness  bluesfestbyron second artist announcement look...\n",
       "7101   sadness  literally eat creamy pesto pasta topped grille..."
      ]
     },
     "execution_count": 8,
     "metadata": {},
     "output_type": "execute_result"
    }
   ],
   "source": [
    "stop=stopwords.words(\"english\")\n",
    "data[\"content\"]=data[\"content\"].apply(lambda content: \" \".join(word for word in word_tokenize(content) if word not in stop))\n",
    "data.tail()"
   ]
  },
  {
   "cell_type": "code",
   "execution_count": 9,
   "id": "d1700b35",
   "metadata": {},
   "outputs": [
    {
     "data": {
      "text/html": [
       "<div>\n",
       "<style scoped>\n",
       "    .dataframe tbody tr th:only-of-type {\n",
       "        vertical-align: middle;\n",
       "    }\n",
       "\n",
       "    .dataframe tbody tr th {\n",
       "        vertical-align: top;\n",
       "    }\n",
       "\n",
       "    .dataframe thead th {\n",
       "        text-align: right;\n",
       "    }\n",
       "</style>\n",
       "<table border=\"1\" class=\"dataframe\">\n",
       "  <thead>\n",
       "    <tr style=\"text-align: right;\">\n",
       "      <th></th>\n",
       "      <th>sentiment</th>\n",
       "      <th>content</th>\n",
       "    </tr>\n",
       "  </thead>\n",
       "  <tbody>\n",
       "    <tr>\n",
       "      <th>7097</th>\n",
       "      <td>sadness</td>\n",
       "      <td>vivienlloyd thank much home sun happy dont thi...</td>\n",
       "    </tr>\n",
       "    <tr>\n",
       "      <th>7098</th>\n",
       "      <td>sadness</td>\n",
       "      <td>put winter due</td>\n",
       "    </tr>\n",
       "    <tr>\n",
       "      <th>7099</th>\n",
       "      <td>sadness</td>\n",
       "      <td>silkinsid tommyjoeratliff that pretty love sky...</td>\n",
       "    </tr>\n",
       "    <tr>\n",
       "      <th>7100</th>\n",
       "      <td>sadness</td>\n",
       "      <td>bluesfestbyron second artist announce look goo...</td>\n",
       "    </tr>\n",
       "    <tr>\n",
       "      <th>7101</th>\n",
       "      <td>sadness</td>\n",
       "      <td>later eat cream pest past top drill chicken su...</td>\n",
       "    </tr>\n",
       "  </tbody>\n",
       "</table>\n",
       "</div>"
      ],
      "text/plain": [
       "     sentiment                                            content\n",
       "7097   sadness  vivienlloyd thank much home sun happy dont thi...\n",
       "7098   sadness                                     put winter due\n",
       "7099   sadness  silkinsid tommyjoeratliff that pretty love sky...\n",
       "7100   sadness  bluesfestbyron second artist announce look goo...\n",
       "7101   sadness  later eat cream pest past top drill chicken su..."
      ]
     },
     "execution_count": 9,
     "metadata": {},
     "output_type": "execute_result"
    }
   ],
   "source": [
    "ps=PorterStemmer()\n",
    "data[\"content\"]=data[\"content\"].apply(lambda content: ' '.join([ps.stem(word) for word in word_tokenize(content)]))\n",
    "data[\"content\"]=data[\"content\"].apply(lambda content: str(TextBlob(content).correct()))\n",
    "data.tail()"
   ]
  },
  {
   "cell_type": "markdown",
   "id": "ff4a6d3a",
   "metadata": {},
   "source": [
    "# Label Encoding"
   ]
  },
  {
   "cell_type": "code",
   "execution_count": 10,
   "id": "1cd69215",
   "metadata": {},
   "outputs": [
    {
     "data": {
      "text/plain": [
       "fear       2252\n",
       "anger      1701\n",
       "joy        1616\n",
       "sadness    1533\n",
       "Name: sentiment, dtype: int64"
      ]
     },
     "execution_count": 10,
     "metadata": {},
     "output_type": "execute_result"
    }
   ],
   "source": [
    "data['sentiment'].value_counts()"
   ]
  },
  {
   "cell_type": "code",
   "execution_count": 11,
   "id": "cbe0055d",
   "metadata": {},
   "outputs": [
    {
     "data": {
      "text/plain": [
       "1    2252\n",
       "0    1701\n",
       "2    1616\n",
       "3    1533\n",
       "Name: sentiment_label, dtype: int64"
      ]
     },
     "execution_count": 11,
     "metadata": {},
     "output_type": "execute_result"
    }
   ],
   "source": [
    "from sklearn.preprocessing import LabelEncoder\n",
    "le=LabelEncoder()\n",
    "data['sentiment_label']=le.fit_transform(data['sentiment'])\n",
    "data['sentiment_label'].value_counts()"
   ]
  },
  {
   "cell_type": "markdown",
   "id": "049e6b1b",
   "metadata": {},
   "source": [
    "# Train split test"
   ]
  },
  {
   "cell_type": "code",
   "execution_count": 12,
   "id": "c5de4489",
   "metadata": {},
   "outputs": [],
   "source": [
    "from sklearn.model_selection import train_test_split\n",
    "X=data['content']\n",
    "y=data['sentiment_label']\n",
    "X_train,X_test,y_train,y_test=train_test_split(X,y,test_size=0.25,stratify=y)"
   ]
  },
  {
   "cell_type": "markdown",
   "id": "eee8ee0f",
   "metadata": {},
   "source": [
    "# Feature engineering"
   ]
  },
  {
   "cell_type": "markdown",
   "id": "4c20f02d",
   "metadata": {},
   "source": [
    "## 1)Count Vectorizer"
   ]
  },
  {
   "cell_type": "code",
   "execution_count": 13,
   "id": "b0a7ceb1",
   "metadata": {},
   "outputs": [
    {
     "name": "stdout",
     "output_type": "stream",
     "text": [
      "(5326, 9538)\n",
      "(1776, 9538)\n"
     ]
    }
   ],
   "source": [
    "from sklearn.feature_extraction.text import CountVectorizer\n",
    "cv = CountVectorizer()\n",
    "bow1=cv.fit_transform(X_train)\n",
    "print(bow1.shape)\n",
    "bow1_test=cv.transform(X_test)\n",
    "print(bow1_test.shape)"
   ]
  },
  {
   "cell_type": "markdown",
   "id": "6b9e269a",
   "metadata": {},
   "source": [
    "## 2)TF-IDF"
   ]
  },
  {
   "cell_type": "code",
   "execution_count": 14,
   "id": "5885917c",
   "metadata": {},
   "outputs": [],
   "source": [
    "from sklearn.feature_extraction.text import TfidfVectorizer\n",
    "tfidf = TfidfVectorizer()\n",
    "bow2=tfidf.fit_transform(X_train)\n",
    "bow2_test=tfidf.transform(X_test)"
   ]
  },
  {
   "cell_type": "markdown",
   "id": "0b572a05",
   "metadata": {},
   "source": [
    "# Model building"
   ]
  },
  {
   "cell_type": "markdown",
   "id": "7a5005a2",
   "metadata": {},
   "source": [
    "## 1)Naive bayes"
   ]
  },
  {
   "cell_type": "code",
   "execution_count": 15,
   "id": "56a19e6c",
   "metadata": {},
   "outputs": [],
   "source": [
    "from sklearn.metrics import accuracy_score\n",
    "def build_model(model,bow_train,y_train,bow_test):\n",
    "    model.fit(bow_train,y_train)\n",
    "    pred=model.predict(bow_test)\n",
    "    return accuracy_score(y_test,pred)\n",
    "    "
   ]
  },
  {
   "cell_type": "code",
   "execution_count": 16,
   "id": "ee195b42",
   "metadata": {},
   "outputs": [
    {
     "name": "stdout",
     "output_type": "stream",
     "text": [
      "accuracy using count vectorizer:  0.8057432432432432\n",
      "accuracy using count tfidf:  0.740990990990991\n"
     ]
    }
   ],
   "source": [
    "from sklearn.naive_bayes import MultinomialNB\n",
    "print(\"accuracy using count vectorizer: \", build_model(MultinomialNB(),bow1,y_train,bow1_test))\n",
    "print(\"accuracy using count tfidf: \", build_model(MultinomialNB(),bow2,y_train,bow2_test))\n"
   ]
  },
  {
   "cell_type": "code",
   "execution_count": 17,
   "id": "1e2255da",
   "metadata": {},
   "outputs": [],
   "source": [
    "# tweet=[\"i am having fun \"]\n",
    "# nb=MultinomialNB()\n",
    "# nb.fit(bow1,y_train)\n",
    "# test=cv.transform(tweet)\n",
    "# prediction=nb.predict(test)[0]\n",
    "# if (prediction==0):\n",
    "#     print('fear')\n",
    "# if (prediction==1):\n",
    "#     print('anger')\n",
    "# if (prediction==2):\n",
    "#     print('joy')\n",
    "# if (prediction==3):\n",
    "#     print('sadness')"
   ]
  },
  {
   "cell_type": "markdown",
   "id": "5db35cd2",
   "metadata": {},
   "source": [
    "## 2) Logistic regression"
   ]
  },
  {
   "cell_type": "code",
   "execution_count": 18,
   "id": "3a49eb2c",
   "metadata": {},
   "outputs": [
    {
     "name": "stdout",
     "output_type": "stream",
     "text": [
      "accuracy using count vectorizer:  0.8344594594594594\n",
      "accuracy using count tfidf:  0.8400900900900901\n"
     ]
    }
   ],
   "source": [
    "from sklearn.linear_model import LogisticRegression\n",
    "print(\"accuracy using count vectorizer: \", build_model(LogisticRegression(),bow1,y_train,bow1_test))\n",
    "print(\"accuracy using count tfidf: \", build_model(LogisticRegression(),bow2,y_train,bow2_test))"
   ]
  },
  {
   "cell_type": "code",
   "execution_count": 20,
   "id": "0277e27d",
   "metadata": {},
   "outputs": [
    {
     "name": "stdout",
     "output_type": "stream",
     "text": [
      "anger\n"
     ]
    }
   ],
   "source": [
    "tweet=[\"i am having fun \"]\n",
    "lr=LogisticRegression()\n",
    "lr.fit(bow1,y_train)\n",
    "test=cv.transform(tweet)\n",
    "prediction=lr.predict(test)[0]\n",
    "if (prediction==0):\n",
    "    print('fear')\n",
    "if (prediction==1):\n",
    "    print('anger')\n",
    "if (prediction==2):\n",
    "    print('joy')\n",
    "if (prediction==3):\n",
    "    print('sadness')"
   ]
  },
  {
   "cell_type": "code",
   "execution_count": null,
   "id": "20f79096",
   "metadata": {},
   "outputs": [],
   "source": []
  }
 ],
 "metadata": {
  "kernelspec": {
   "display_name": "Python 3 (ipykernel)",
   "language": "python",
   "name": "python3"
  },
  "language_info": {
   "codemirror_mode": {
    "name": "ipython",
    "version": 3
   },
   "file_extension": ".py",
   "mimetype": "text/x-python",
   "name": "python",
   "nbconvert_exporter": "python",
   "pygments_lexer": "ipython3",
   "version": "3.11.2"
  }
 },
 "nbformat": 4,
 "nbformat_minor": 5
}
